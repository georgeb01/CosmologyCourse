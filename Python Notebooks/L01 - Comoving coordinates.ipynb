{
 "cells": [
  {
   "cell_type": "markdown",
   "metadata": {},
   "source": [
    "# Comoving coordinates"
   ]
  },
  {
   "cell_type": "markdown",
   "metadata": {},
   "source": [
    "In this notebook, you will familiarise yourselves with the idea of \"Comoving Coordinates\".\n",
    "\n",
    "For this exercise, we'll consider a universe that is entirely empty aside from three \"light\" particles (as in the first-year mechanics sense of light, i.e., negligible mass). We'll call them $p_i$, where $i$ is in the range 0..2 (for three particles). These light particles have such low mass that they do not interact with each other gravitationally. As such, there are no forces acting on these particles, so they do not experience any acceleration. At this point, the particles are at positions ($x_i$, $y_i$).  \n",
    "\n",
    "Now, consider what happens when the universe these particles are in starts to expand. The particles will be dragged along with the expansion of the universe, as if they are resting on an elastic sheet that is being stretched in all directions. The following code calculates the positions of the particles after the universe has expanded in size by a factor of $a$:   "
   ]
  },
  {
   "cell_type": "code",
   "execution_count": 3,
   "metadata": {},
   "outputs": [
    {
     "data": {
      "text/plain": [
       "(array([3, 9]), array([15, 12]), array([6, 6]))"
      ]
     },
     "execution_count": 3,
     "metadata": {},
     "output_type": "execute_result"
    }
   ],
   "source": [
    "import numpy as np\n",
    "#Positions of particles before expansion in [x,y] (I've just made these up):\n",
    "p_0 = np.array([1,3])\n",
    "p_1 = np.array([5,4])\n",
    "p_2 = np.array([2,2])\n",
    "\n",
    "a = 3\n",
    "\n",
    "#Positions of particles after the universe has expanded by a factor of a:\n",
    "p_0_new = p_0 * a\n",
    "p_1_new = p_1 * a\n",
    "p_2_new = p_2 * a\n",
    "\n",
    "p_0_new, p_1_new, p_2_new\n"
   ]
  },
  {
   "cell_type": "markdown",
   "metadata": {},
   "source": [
    "The distance between each particle before and after the expansion can be calculated using Pythagoras:"
   ]
  },
  {
   "cell_type": "code",
   "execution_count": 4,
   "metadata": {},
   "outputs": [
    {
     "name": "stdout",
     "output_type": "stream",
     "text": [
      "4.12310562562 3.60555127546 1.41421356237\n",
      "12.3693168769 10.8166538264 4.24264068712\n"
     ]
    }
   ],
   "source": [
    "d_01 = np.sqrt((p_0[0] - p_1[0])**2. + (p_0[1] - p_1[1])**2.)\n",
    "d_12 = np.sqrt((p_1[0] - p_2[0])**2. + (p_1[1] - p_2[1])**2.)\n",
    "d_20 = np.sqrt((p_2[0] - p_0[0])**2. + (p_2[1] - p_0[1])**2.)\n",
    "\n",
    "d_01_new = np.sqrt((p_0_new[0] - p_1_new[0])**2. + (p_0_new[1] - p_1_new[1])**2.)\n",
    "d_12_new = np.sqrt((p_1_new[0] - p_2_new[0])**2. + (p_1_new[1] - p_2_new[1])**2.)\n",
    "d_20_new = np.sqrt((p_2_new[0] - p_0_new[0])**2. + (p_2_new[1] - p_0_new[1])**2.)\n",
    "\n",
    "print(d_01, d_12, d_20) \n",
    "print(d_01_new, d_12_new, d_20_new) "
   ]
  },
  {
   "cell_type": "markdown",
   "metadata": {},
   "source": [
    "Try using different values of $p_i$ and $a$. Notice that the distances between the points after expansion are always $a$ times the distance before expansion (you can test this with the code).\n",
    "\n",
    "As such, to work out the distances between the points, all you need is their positions before expansion ($p_i$) and the expansion factor ($a$). This is the idea behind co-moving coordinates: the _comoving coordinates_ of the points stay the same (i.e., are always fixed to $p_i$), and you calculate their _proper coordinates_ by multiplying the comoving coordinates by the expansion factor, $a$."
   ]
  },
  {
   "cell_type": "code",
   "execution_count": 1,
   "metadata": {},
   "outputs": [
    {
     "data": {
      "application/vnd.jupyter.widget-view+json": {
       "model_id": "64a099f053574cc7bb0461e3464bf422",
       "version_major": 2,
       "version_minor": 0
      },
      "text/html": [
       "<p>Failed to display Jupyter Widget of type <code>interactive</code>.</p>\n",
       "<p>\n",
       "  If you're reading this message in the Jupyter Notebook or JupyterLab Notebook, it may mean\n",
       "  that the widgets JavaScript is still loading. If this message persists, it\n",
       "  likely means that the widgets JavaScript library is either not installed or\n",
       "  not enabled. See the <a href=\"https://ipywidgets.readthedocs.io/en/stable/user_install.html\">Jupyter\n",
       "  Widgets Documentation</a> for setup instructions.\n",
       "</p>\n",
       "<p>\n",
       "  If you're reading this message in another frontend (for example, a static\n",
       "  rendering on GitHub or <a href=\"https://nbviewer.jupyter.org/\">NBViewer</a>),\n",
       "  it may mean that your frontend doesn't currently support widgets.\n",
       "</p>\n"
      ],
      "text/plain": [
       "interactive(children=(BoundedFloatText(value=1.0, description='a=', max=5.0, min=1.0, step=0.2), Output()), _dom_classes=('widget-interact',))"
      ]
     },
     "metadata": {},
     "output_type": "display_data"
    }
   ],
   "source": [
    "%matplotlib inline\n",
    "\n",
    "from ipywidgets import interact, BoundedFloatText\n",
    "import ipywidgets as widgets\n",
    "import numpy as np\n",
    "import matplotlib.pyplot as plt\n",
    "\n",
    "t = np.arange(0.0, 1.0, 0.01)\n",
    "\n",
    "\n",
    "def f(a):\n",
    "\n",
    "    plt.figure(figsize=(15,5))\n",
    "\n",
    "    plt.subplot(1,2,1)\n",
    "    plt.plot([p_0[0],p_1[0],p_2[0],p_0[0]], [p_0[1],p_1[1],p_2[1],p_0[1]], 'bo-')\n",
    "    plt.axis([0/a, 30/a, 0/a, 30/a])\n",
    "    plt.grid()\n",
    "    plt.title(\"Comoving Coordinates\")\n",
    "\n",
    "    \n",
    "    plt.subplot(1,2,2)\n",
    "    plt.plot(np.array([p_0[0],p_1[0],p_2[0],p_0[0]])*a, \\\n",
    "             np.array([p_0[1],p_1[1],p_2[1],p_0[1]])*a, 'bo-')\n",
    "    plt.axis([0, 30, 0, 30])\n",
    "    plt.grid()\n",
    "    plt.title(\"Proper Coordinates\")\n",
    "    \n",
    "    plt.show()\n",
    "\n",
    "p_0 = np.array([1,3])\n",
    "p_1 = np.array([5,4])\n",
    "p_2 = np.array([2,2])\n",
    "interact(f, a=BoundedFloatText(value=1,min=1,max=5,step=0.2,description='a='));\n"
   ]
  },
  {
   "cell_type": "code",
   "execution_count": null,
   "metadata": {
    "collapsed": true
   },
   "outputs": [],
   "source": []
  }
 ],
 "metadata": {
  "kernelspec": {
   "display_name": "Python 3",
   "language": "python",
   "name": "python3"
  },
  "language_info": {
   "codemirror_mode": {
    "name": "ipython",
    "version": 3
   },
   "file_extension": ".py",
   "mimetype": "text/x-python",
   "name": "python",
   "nbconvert_exporter": "python",
   "pygments_lexer": "ipython3",
   "version": "3.6.2"
  }
 },
 "nbformat": 4,
 "nbformat_minor": 2
}
