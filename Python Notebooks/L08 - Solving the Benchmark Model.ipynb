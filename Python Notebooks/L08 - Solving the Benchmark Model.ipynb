{
 "cells": [
  {
   "cell_type": "markdown",
   "metadata": {},
   "source": [
    "# Solving the Benchmark Model\n",
    "\n",
    "At the start of Lecture 8, we consider the Benchmark Model - a model universe that contains all the energy density components that we currently know or believe may exist within the real Universe: matter, radiation (photons), dark energy, and - possibly - curvature. This was presented as a differential equation describing the rate of change of the scale factor (i.e., a) with respect to time (i.e., da/dt):\n",
    "\n",
    "$\\frac{da}{dt} = \\int H_0(\\frac{\\Omega_{\\rm p,0}}{a^2} + \\frac{\\Omega_{\\rm m,0}}{a}+\\Omega_{\\rm d,0}{a^2}+(1-\\Omega_0))^{1/2}$\n",
    "\n",
    "This differential equation can't be solved analytically, but it is easy to solve numerically.\n",
    "\n",
    "In this notebook, I use off-the-shelf python modules to numerically solve the Benchmark Model, starting with determining how the scale factor changes with time."
   ]
  },
  {
   "cell_type": "markdown",
   "metadata": {},
   "source": [
    "## How the scale factor, a, changes over time\n",
    "First, load the python modules that we'll be using:"
   ]
  },
  {
   "cell_type": "code",
   "execution_count": 3,
   "metadata": {},
   "outputs": [],
   "source": [
    "import numpy as np\n",
    "import matplotlib.pyplot as plt\n",
    "import scipy.integrate as integrate"
   ]
  },
  {
   "cell_type": "markdown",
   "metadata": {},
   "source": [
    "Define a set of energy densities in terms of the critial density (i.e., as they are written in the lecture slides):"
   ]
  },
  {
   "cell_type": "code",
   "execution_count": 4,
   "metadata": {},
   "outputs": [],
   "source": [
    "om_m0 = 0.286\n",
    "om_p0 = 5.35e-5\n",
    "om_d0 = 0.714\n",
    "om_0 = 1.00\n",
    "H0 = 69.6\n",
    "c = 3e5"
   ]
  },
  {
   "cell_type": "markdown",
   "metadata": {},
   "source": [
    "Define a vector to include values for the scale factor. We'll do this in log space, enabling the scale factor to cover a large dynamic range:"
   ]
  },
  {
   "cell_type": "code",
   "execution_count": 5,
   "metadata": {},
   "outputs": [],
   "source": [
    "a = np.logspace(-7,3)"
   ]
  },
  {
   "cell_type": "markdown",
   "metadata": {},
   "source": [
    "Although not necessary for solving the differential equation, it's insightful to plot da/dt as a function of scale factor:"
   ]
  },
  {
   "cell_type": "code",
   "execution_count": 6,
   "metadata": {},
   "outputs": [
    {
     "data": {
      "image/png": "[encoded data removed]",
      "text/plain": [
       "<matplotlib.figure.Figure at 0x10b593518>"
      ]
     },
     "metadata": {},
     "output_type": "display_data"
    }
   ],
   "source": [
    "da_dt = H0*((om_p0/a**2 + om_m0/a + om_d0*a**2 + (1-om_0))**0.5)\n",
    "plt.plot(a, da_dt)\n",
    "plt.xscale('log')\n",
    "plt.yscale('log')\n",
    "plt.show()"
   ]
  },
  {
   "cell_type": "markdown",
   "metadata": {},
   "source": [
    "The above plot shows how the rate of change of the scale factor increases as the scale factor increases. If it were describing blowing up a balloon, it would describe the *rate* at which the balloon expands as a function of the balloon's diamater."
   ]
  },
  {
   "cell_type": "markdown",
   "metadata": {},
   "source": [
    "To solve the differential equation, it needs to be rearranged so that all terms containing the scale factor are on the left hand side of the equation (including the da):\n",
    "\n",
    "$\\frac{da}{(\\frac{\\Omega_{\\rm p,0}}{a^2} + \\frac{\\Omega_{\\rm m,0}}{a}+\\Omega_{\\rm d,0}{a^2}+(1-\\Omega_0))^{1/2}} = H_0 dt$\n",
    "\n",
    "Solving this to relate scale factor to time requires us to integrate both sides between 0 and $\\alpha$ on the left, and 0 and $t$ on the right, where $\\alpha$ corresponds to the scale factor at time $t$:\n",
    "\n",
    "$\\int_0^\\alpha \\frac{da}{(\\frac{\\Omega_{\\rm p,0}}{a^2} + \\frac{\\Omega_{\\rm m,0}}{a}+\\Omega_{\\rm d,0}{a^2}+(1-\\Omega_0))^{1/2}} = H_0 t$\n",
    "\n",
    "Also, define it as a python function in a in order to integrate it numerically:"
   ]
  },
  {
   "cell_type": "code",
   "execution_count": 7,
   "metadata": {},
   "outputs": [],
   "source": [
    "def a_int(a):\n",
    "    return 1./((om_p0/a**2 + om_m0/a + om_d0*a**2 + (1-om_0))**0.5)"
   ]
  },
  {
   "cell_type": "markdown",
   "metadata": {},
   "source": [
    "Now we need to integrate the above function from between 0 and various values of scale factor, $\\alpha$:"
   ]
  },
  {
   "cell_type": "code",
   "execution_count": 8,
   "metadata": {},
   "outputs": [],
   "source": [
    "H0t = np.zeros(50)\n",
    "for i, alpha in enumerate(a):\n",
    "    H0t[i] = (integrate.quad(a_int, 0, alpha))[0]"
   ]
  },
  {
   "cell_type": "markdown",
   "metadata": {},
   "source": [
    "The above integral gives t at each value of scale factor (i.e., t(a)) as opposed to the more familiar \"scale factor at different times\" (i.e., a(t)). However, this is not a problem with numerical vectors - we simply have to state which value goes on the x-axis (t) and which goes on the y-axis (a).\n",
    "\n",
    "Additionally, it's important that we normalise to make sure that $t_0$ corresponds to a = 1 (i.e., by definition, the scale factor must equal 1 at $t_0$):"
   ]
  },
  {
   "cell_type": "code",
   "execution_count": 9,
   "metadata": {},
   "outputs": [
    {
     "data": {
      "image/png": "[encoded data removed]",
      "text/plain": [
       "<matplotlib.figure.Figure at 0x10b7e2860>"
      ]
     },
     "metadata": {},
     "output_type": "display_data"
    }
   ],
   "source": [
    "norm = (integrate.quad(a_int, 0, 1))[0]\n",
    "nH0t = H0t/norm\n",
    "\n",
    "plt.plot(np.log10(nH0t),np.log10(a))\n",
    "plt.xlim(-10,1)\n",
    "plt.ylim(-6,3)\n",
    "plt.ylabel('log(a(t))')\n",
    "plt.xlabel('log(H0t)')\n",
    "plt.show()"
   ]
  },
  {
   "cell_type": "markdown",
   "metadata": {},
   "source": [
    "The above plot shows the scale factor at various times, i.e., a(t). In other words, it shows the relative size of the Benchmark Model universe (i.e., relative to its current size) at different times. $H_0 t=1$ corresponds to now, $H_0 t=0.1$ corresponds to when the universe was roughly 1/10th its current age, and $H_0 t=10$ correponds to when the universe will be 10 times its current age (bear in mind that the plot axes are in log-scale).  "
   ]
  },
  {
   "cell_type": "markdown",
   "metadata": {},
   "source": [
    "## Proper distances at different redshifts\n",
    "Having calculated a(t), it's now possible to calculate all other relevant values such as proper distances and time of emission for a galaxy at a given redshift, z. The current proper distance is given by:\n",
    "\n",
    "$d_p(t_0) = c\\int_{t_{\\rm em}}^{t_{\\rm ob}} \\frac{dt}{a(t)}$"
   ]
  },
  {
   "cell_type": "markdown",
   "metadata": {},
   "source": [
    "First, define a redshift at which to calculate the proper distance:"
   ]
  },
  {
   "cell_type": "code",
   "execution_count": 113,
   "metadata": {},
   "outputs": [],
   "source": [
    "z = 0.8"
   ]
  },
  {
   "cell_type": "markdown",
   "metadata": {},
   "source": [
    "From this redshift, calculate the scale factor at the time of emission using $1+z = \\frac{1}{a(t_{\\rm em})}$:"
   ]
  },
  {
   "cell_type": "code",
   "execution_count": 114,
   "metadata": {},
   "outputs": [],
   "source": [
    "a_tem = 1./(1+z)"
   ]
  },
  {
   "cell_type": "markdown",
   "metadata": {},
   "source": [
    "Next, numerically integrate a(t) between $H_0 t_{\\rm em}$ and $H_0 t_{\\rm ob}$. The latter is, by definition, equal to 1. This time, since a(t) is described by a vector rather than an analytic expression, we can't use the \"quad\" approach as before. Instead, use the more traditional \"sum the area under the curve\" methods such as the Trapezium Rule or the more precise Simpson's Rule.\n",
    "\n",
    "To use this approach, sum up the area bounded by the curve described by 1/a(t) between $t_{\\rm em}$ and $\\tau = t_{\\rm ob} = t_0$. In other words, this area:"
   ]
  },
  {
   "cell_type": "code",
   "execution_count": 115,
   "metadata": {},
   "outputs": [
    {
     "data": {
      "image/png": "[encoded data removed]",
      "text/plain": [
       "<matplotlib.figure.Figure at 0x18eedb048>"
      ]
     },
     "metadata": {},
     "output_type": "display_data"
    }
   ],
   "source": [
    "a = np.linspace(a_tem, 1., 100)\n",
    "a_inv = 1./a\n",
    "H0t = np.zeros_like(a)\n",
    "for i, alpha in enumerate(a):\n",
    "    H0t[i] = (integrate.quad(a_int, 0, alpha))[0]\n",
    "\n",
    "#Remember to normalise so a=1 at t=t_obs=t0\n",
    "nH0t = H0t/(integrate.quad(a_int, 0, 1))[0]\n",
    "\n",
    "plt.plot(nH0t, a_inv)\n",
    "plt.xlim(nH0t[0], 1)\n",
    "plt.xlabel('H0t')\n",
    "plt.ylabel('1/a')\n",
    "plt.show()"
   ]
  },
  {
   "cell_type": "markdown",
   "metadata": {},
   "source": [
    "Use Simpson's Rule to sum up this area. Thankfully, there's a Python module to do this:"
   ]
  },
  {
   "cell_type": "code",
   "execution_count": 116,
   "metadata": {},
   "outputs": [],
   "source": [
    "from scipy.integrate import simps\n",
    "dp_c = simps(a_inv, nH0t)"
   ]
  },
  {
   "cell_type": "markdown",
   "metadata": {},
   "source": [
    "The above gives the current proper distance in units of ${H_0/c}$. Convert to Mpc using:"
   ]
  },
  {
   "cell_type": "code",
   "execution_count": 117,
   "metadata": {},
   "outputs": [
    {
     "name": "stdout",
     "output_type": "stream",
     "text": [
      "2892.89187511\n"
     ]
    }
   ],
   "source": [
    "dp = dp_c/(H0/c)\n",
    "print(dp)"
   ]
  },
  {
   "cell_type": "markdown",
   "metadata": {},
   "source": [
    "To calculate how current proper distance changes as a function of redshift, simply define a vector of redshifts and calculate the proper distance at each redshift using a for-loop:"
   ]
  },
  {
   "cell_type": "code",
   "execution_count": 118,
   "metadata": {},
   "outputs": [],
   "source": [
    "z = np.logspace(-2.2,np.log10(5000))\n",
    "a_tem = 1./(1+z)\n",
    "\n",
    "from scipy.integrate import simps\n",
    "dp_c = np.zeros(50)\n",
    "\n",
    "for i, alpha in enumerate(a_tem):\n",
    "    a = np.linspace(alpha, 1., 100)\n",
    "    a_inv = 1./a\n",
    "    \n",
    "    H0t = np.zeros(100)\n",
    "    for j, beta in enumerate(a):\n",
    "        H0t[j] = (integrate.quad(a_int, 0, beta))[0]\n",
    "    \n",
    "    #Remember to normalise so a=1 at t=t_obs=t0\n",
    "    nH0t = H0t/(integrate.quad(a_int, 0, 1))[0]\n",
    "    dp_c[i] = simps(a_inv, nH0t)"
   ]
  },
  {
   "cell_type": "markdown",
   "metadata": {},
   "source": [
    "Now, plot proper distance as a function of redshift:"
   ]
  },
  {
   "cell_type": "code",
   "execution_count": 119,
   "metadata": {},
   "outputs": [
    {
     "data": {
      "image/png": "[encoded data removed]",
      "text/plain": [
       "<matplotlib.figure.Figure at 0x18eef0a58>"
      ]
     },
     "metadata": {},
     "output_type": "display_data"
    }
   ],
   "source": [
    "plt.plot(z, dp_c/(H0/c))\n",
    "plt.xlim(0.01,500)\n",
    "plt.xscale('log')\n",
    "plt.yscale('log')\n",
    "plt.xlabel('z')\n",
    "plt.ylabel('Current proper distance (Mpc)')\n",
    "plt.show()"
   ]
  },
  {
   "cell_type": "code",
   "execution_count": 120,
   "metadata": {},
   "outputs": [
    {
     "data": {
      "image/png": "[encoded data removed]",
      "text/plain": [
       "<matplotlib.figure.Figure at 0x18eee85f8>"
      ]
     },
     "metadata": {},
     "output_type": "display_data"
    }
   ],
   "source": [
    "plt.plot(z, dp_c/((H0/c)*(1+z)))\n",
    "plt.xlim(0.01,500)\n",
    "plt.xscale('log')\n",
    "plt.yscale('log')\n",
    "plt.xlabel('z')\n",
    "plt.ylabel('Proper distance at emission (Mpc)')\n",
    "plt.show()"
   ]
  }
 ],
 "metadata": {
  "kernelspec": {
   "display_name": "Python 3",
   "language": "python",
   "name": "python3"
  },
  "language_info": {
   "codemirror_mode": {
    "name": "ipython",
    "version": 3
   },
   "file_extension": ".py",
   "mimetype": "text/x-python",
   "name": "python",
   "nbconvert_exporter": "python",
   "pygments_lexer": "ipython3",
   "version": "3.6.2"
  }
 },
 "nbformat": 4,
 "nbformat_minor": 2
}
